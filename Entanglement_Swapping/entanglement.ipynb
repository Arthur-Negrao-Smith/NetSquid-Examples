{
 "cells": [
  {
   "cell_type": "markdown",
   "metadata": {},
   "source": [
    "Este exemplo é baseado no exemplo já existente do próprio simulador do Netsquid. Entretanto, esse código passou por algumas alterações para fins de melhor compreensão"
   ]
  },
  {
   "cell_type": "markdown",
   "metadata": {},
   "source": [
    "### Importando todas as bibliotecas necessárias"
   ]
  },
  {
   "cell_type": "code",
   "execution_count": null,
   "metadata": {},
   "outputs": [],
   "source": [
    "import netsquid as ns\n",
    "from netsquid.examples.entanglenodes import example_network_setup, EntangleNodes\n",
    "from matplotlib import pyplot as plt\n",
    "print(f\"Este exemplo está localizado em: {ns.examples.entanglenodes.__file__}\")"
   ]
  },
  {
   "cell_type": "markdown",
   "metadata": {},
   "source": [
    "### Criando a classe do simulador"
   ]
  },
  {
   "cell_type": "code",
   "execution_count": null,
   "metadata": {},
   "outputs": [],
   "source": [
    "class Simulation:\n",
    "    def __init__(self, source_delay: float = 1e5, source_fidelity_sq: float = 0.8, \n",
    "                 depolar_rate: int = 100, node_distance: int = 20) -> None:\n",
    "        self.fidelity = 0.0\n",
    "        self.network = example_network_setup(source_delay=source_delay, \n",
    "                                             source_fidelity_sq=source_fidelity_sq, \n",
    "                                             depolar_rate=depolar_rate, \n",
    "                                             node_distance=node_distance)\n",
    "        self.protocol_a = EntangleNodes(node=self.network.subcomponents[\n",
    "            \"node_A\"], role=\"source\")\n",
    "        self.protocol_b = EntangleNodes(node=self.network.subcomponents[\n",
    "            \"node_B\"], role=\"receiver\")\n",
    "\n",
    "    def startSimulation(self) -> None:\n",
    "        \"\"\"\n",
    "        Irá iniciar a simulação desejada\n",
    "        \"\"\"\n",
    "        self.protocol_a.start()\n",
    "        self.protocol_b.start()\n",
    "        ns.sim_run()\n",
    "\n",
    "    def collectFidelity(self) -> None:\n",
    "        \"\"\"\n",
    "        Irá coletar os dados da fidelidade que será analisada\n",
    "        \"\"\"\n",
    "        self.q1, = self.network.subcomponents[\"node_A\"].qmemory.peek(0)\n",
    "        self.q2, = self.network.subcomponents[\"node_B\"].qmemory.peek(0)\n",
    "        self.fidelity = ns.qubits.fidelity([self.q1, self.q2, ns.b00])\n",
    "        print(f\"Fidelity of generated entanglement: {self.fidelity}\")"
   ]
  }
 ],
 "metadata": {
  "kernelspec": {
   "display_name": ".venv",
   "language": "python",
   "name": "python3"
  },
  "language_info": {
   "codemirror_mode": {
    "name": "ipython",
    "version": 3
   },
   "file_extension": ".py",
   "mimetype": "text/x-python",
   "name": "python",
   "nbconvert_exporter": "python",
   "pygments_lexer": "ipython3",
   "version": "3.10.12"
  }
 },
 "nbformat": 4,
 "nbformat_minor": 2
}
