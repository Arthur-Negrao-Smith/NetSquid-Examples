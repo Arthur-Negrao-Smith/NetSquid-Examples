{
 "cells": [
  {
   "cell_type": "markdown",
   "metadata": {},
   "source": [
    "Este exemplo leva como base o exemplo já incluído no próprio simulador netsquid, apenas organizei e localizei de uma forma mais simples para que todos consigam entender"
   ]
  },
  {
   "cell_type": "markdown",
   "metadata": {},
   "source": [
    "### Importando as bibliotecas necessárias"
   ]
  },
  {
   "cell_type": "code",
   "execution_count": 1,
   "metadata": {},
   "outputs": [
    {
     "name": "stdout",
     "output_type": "stream",
     "text": [
      "Este exemplo está localizado em: /home/arthur/Documents/Arthur/Ufpa/Gercom/Quantum/NetSquid-Examples/.venv/lib/python3.10/site-packages/netsquid/examples/purify.py\n"
     ]
    }
   ],
   "source": [
    "import netsquid as ns\n",
    "from netsquid.examples.purify import example_network_setup, example_sim_setup\n",
    "from matplotlib import pyplot as plt\n",
    "print(f\"Este exemplo está localizado em: {ns.examples.purify.__file__}\")\n"
   ]
  },
  {
   "cell_type": "markdown",
   "metadata": {},
   "source": [
    "### Criando a classe do simulador"
   ]
  },
  {
   "cell_type": "code",
   "execution_count": 2,
   "metadata": {},
   "outputs": [],
   "source": [
    "class Simulation:\n",
    "    def __init__(self, source_delay: float = 1e5, source_fidelity_sq: float = 0.8, depolar_rate: float = 1000,\n",
    "                  node_distance: int = 1000, num_runs: int = 1000) -> None:\n",
    "        # Cria uma rede para fins dos testes de fidelidade utilizando os parâmetros desejados\n",
    "        self.network = example_network_setup(source_delay= source_delay, source_fidelity_sq= source_fidelity_sq, \n",
    "                                        depolar_rate= depolar_rate, node_distance= node_distance)\n",
    "        # Cria o setup do exemplo capaz de rodar a simulação\n",
    "        self.filt_example, self.dc = example_sim_setup(\n",
    "            self.network.get_node(\"node_A\"), self.network.get_node(\"node_B\"), num_runs=num_runs)\n",
    "    \n",
    "    def start_Simulation(self) -> None:\n",
    "        self.filt_example.start()\n",
    "        ns.sim_run()\n",
    "        self.fidelity = self.dc.dataframe[\"F2\"].mean()\n",
    "        print(f\"A taxa de fidelidade foi de: {self.fidelity}\")\n",
    "\n",
    "    def returnFidelity(self) -> float:\n",
    "        return self.fidelity\n"
   ]
  },
  {
   "cell_type": "code",
   "execution_count": 3,
   "metadata": {},
   "outputs": [],
   "source": [
    "class Graphic:\n",
    "    def __init__(self, simulation: Simulation, data_file_name: str = 'fidelitydata.txt') -> None:\n",
    "        self.fidelity_axis = []\n",
    "        self.data_count = 0\n",
    "        self.y_label = 'Fidelity'\n",
    "        self.x_label = 'Execution number'\n",
    "        self.file_name = data_file_name\n",
    "        self.fidelity = simulation.returnFidelity()\n",
    "\n",
    "\n",
    "    def testFile(self, create_file: bool=True) -> bool:\n",
    "        try:\n",
    "            with open(self.file_name, 'r') as file:\n",
    "                return True\n",
    "            \n",
    "        except:\n",
    "            if create_file:\n",
    "                with open(self.file_name, 'w+'):\n",
    "                    print(f'Nenhum arquivo encontrado. Criado o arquivo \"{self.file_name}\"')\n",
    "            return False\n",
    "    \n",
    "\n",
    "    def deleteData(self) -> None:\n",
    "        test = self.testFile(False)\n",
    "        if test:\n",
    "            with open(self.file_name, 'w') as file:\n",
    "                print(\"Dados apagados com sucesso\")\n",
    "                return\n",
    "            \n",
    "        print(\"Sem dados para apagar\")\n",
    "\n",
    "    def readDataCollector(self) -> None:\n",
    "        test = self.testFile()\n",
    "        if test:\n",
    "            with open(self.file_name, 'r') as file:\n",
    "                temp_list = []\n",
    "                temp_count = 0\n",
    "                for line in file:\n",
    "                    if line != None:\n",
    "                        temp_list.append(float(line.replace('\\n', '')))\n",
    "                        temp_count += 1\n",
    "                self.fidelity_axis = temp_list\n",
    "                self.data_count = temp_count\n",
    "                return\n",
    "        \n",
    "        print('Nenhum dado existente')\n",
    "        return\n",
    "    \n",
    "        \n",
    "    def addOnDataCollector(self) -> None:\n",
    "        self.testFile()\n",
    "        with open(self.file_name, '+a') as file:\n",
    "            file.write(f'{self.fidelity}\\n')\n",
    "            \n",
    "    \n",
    "    def printData(self) -> None:\n",
    "        test = self.testFile()\n",
    "        if test:\n",
    "            print(\"Os dados são: \")\n",
    "            with open(self.file_name, 'r') as file:\n",
    "                for line in file:\n",
    "                    print(line)\n",
    "                return\n",
    "        \n",
    "        print(\"Nenhum dado pôde ser imprimido\")\n",
    "        return\n",
    "\n",
    "\n",
    "    def generateGraph(self) -> None:\n",
    "        plt.plot(self.fidelity_axis, scalex=self.data_count)\n",
    "        plt.ylabel(self.y_label)\n",
    "        plt.xlabel(self.x_label)\n",
    "        plt.show()\n",
    "\n"
   ]
  },
  {
   "cell_type": "markdown",
   "metadata": {},
   "source": [
    "### Rodando o simulador"
   ]
  },
  {
   "cell_type": "code",
   "execution_count": 4,
   "metadata": {},
   "outputs": [
    {
     "name": "stdout",
     "output_type": "stream",
     "text": [
      "A taxa de fidelidade foi de: 0.2525\n"
     ]
    },
    {
     "data": {
      "image/png": "[encoded data removed]",
      "text/plain": [
       "<Figure size 640x480 with 1 Axes>"
      ]
     },
     "metadata": {},
     "output_type": "display_data"
    },
    {
     "name": "stdout",
     "output_type": "stream",
     "text": [
      "Os dados são: \n",
      "0.249\n",
      "\n",
      "0.2525\n",
      "\n"
     ]
    }
   ],
   "source": [
    "# Nesse simulador você tem a possibilidade de alterar os parâmetros para diferentes testes e dados\n",
    "simulator = Simulation()\n",
    "simulator.start_Simulation()\n",
    "graphic = Graphic(simulation=simulator)\n",
    "graphic.addOnDataCollector()\n",
    "resp = input(\"Você gostaria de observar o gráfico dos dados? [s/n] \").split()\n",
    "if resp[0] in 'Ss':\n",
    "    graphic.readDataCollector()\n",
    "    graphic.generateGraph()\n",
    "    graphic.printData()\n",
    "    resp = input(\"Deseja apagar todos os dados salvos? [s/n] \").split()\n",
    "    if resp[0] in 'sS':\n",
    "        graphic.deleteData()\n",
    "\n",
    "else:\n",
    "    print(\"Simulação finalizada com sucesso\")\n"
   ]
  }
 ],
 "metadata": {
  "kernelspec": {
   "display_name": ".venv",
   "language": "python",
   "name": "python3"
  },
  "language_info": {
   "codemirror_mode": {
    "name": "ipython",
    "version": 3
   },
   "file_extension": ".py",
   "mimetype": "text/x-python",
   "name": "python",
   "nbconvert_exporter": "python",
   "pygments_lexer": "ipython3",
   "version": "3.10.12"
  }
 },
 "nbformat": 4,
 "nbformat_minor": 2
}
