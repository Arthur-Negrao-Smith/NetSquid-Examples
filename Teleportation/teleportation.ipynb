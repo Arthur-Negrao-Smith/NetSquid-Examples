{
 "cells": [
  {
   "cell_type": "markdown",
   "metadata": {},
   "source": [
    "Importando as bibliotecas iniciais"
   ]
  },
  {
   "cell_type": "code",
   "execution_count": null,
   "metadata": {},
   "outputs": [],
   "source": [
    "import netsquid as ns\n",
    "import matplotlib as mp\n",
    "from Default_Setup.setups import networkSetup, simulatorSetup\n",
    "from netsquid.examples.teleportation import (example_sim_setup)"
   ]
  },
  {
   "cell_type": "markdown",
   "metadata": {},
   "source": [
    "Criando a classe do simulador"
   ]
  },
  {
   "cell_type": "code",
   "execution_count": null,
   "metadata": {},
   "outputs": [],
   "source": [
    "print(f\"This example module is located at: {ns.examples.teleportation.__file__}\")\n",
    "\n",
    "class Simulation:\n",
    "    def __init__(self, node_distance=4e-3, depolarization_rate=0, dephasing_rate=0) -> None:\n",
    "        # Criando a rede\n",
    "        self.network = networkSetup(node_distance=node_distance, depolarization_rate=depolarization_rate, \n",
    "                               dephasing_rate=dephasing_rate)\n",
    "        # Criando os nós de Alice e Bob\n",
    "        self.node_a = self.network.get_node(\"Alice\")\n",
    "        self.node_b = self.network.get_node(\"Bob\")\n",
    "        # Gerando os protocolos de Alice e Bob e criando um coletor de filidade\n",
    "        self.protocol_alice, self.protocol_bob, self.dc = example_sim_setup(self.node_a, self.node_b)\n",
    "        self.protocol_alice.start()\n",
    "        self.protocol_bob.start()\n",
    "\n",
    "    def creatQuantumConnection(self, label: str = \"quantum\") -> None:\n",
    "        # Criando um canal quântico\n",
    "        self.quantum_connection = self.network.get_connection(self.node_a, self.node_b, label=label)\n",
    "        self.cycle_runtime = (self.quantum_connection.subcomponents[\"qsource\"].subcomponents[\"internal_clock\"]\n",
    "                 .models[\"timing_model\"].delay)\n",
    "        \n",
    "    def runSimulation(self, cycle_times: int = 100) -> None:\n",
    "        # Rodando o simulador\n",
    "        ns.sim_run(self.cycle_runtime * cycle_times)\n",
    "        print(f\"A fidelidade do protocolo de teletrasporte foi de: {self.dc.dataframe['fidelity'].mean():.3f}\")\n",
    "\n",
    "\n"
   ]
  },
  {
   "cell_type": "markdown",
   "metadata": {},
   "source": [
    "Parâmetros do simulador"
   ]
  },
  {
   "cell_type": "code",
   "execution_count": null,
   "metadata": {},
   "outputs": [],
   "source": [
    "simulator = Simulation(4e-3, 1e7, 0.2)\n",
    "simulator.creatQuantumConnection()\n",
    "simulator.runSimulation()\n"
   ]
  }
 ],
 "metadata": {
  "kernelspec": {
   "display_name": ".venv",
   "language": "python",
   "name": "python3"
  },
  "language_info": {
   "codemirror_mode": {
    "name": "ipython",
    "version": 3
   },
   "file_extension": ".py",
   "mimetype": "text/x-python",
   "name": "python",
   "nbconvert_exporter": "python",
   "pygments_lexer": "ipython3",
   "version": "3.10.12"
  }
 },
 "nbformat": 4,
 "nbformat_minor": 2
}
