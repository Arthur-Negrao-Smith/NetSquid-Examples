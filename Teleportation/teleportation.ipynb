{
 "cells": [
  {
   "cell_type": "markdown",
   "metadata": {},
   "source": [
    "Importando as bibliotecas iniciais"
   ]
  },
  {
   "cell_type": "code",
   "execution_count": null,
   "metadata": {},
   "outputs": [],
   "source": [
    "import netsquid as ns\n",
    "import matplotlib as mp\n",
    "from Default_Setup.network import networkSetup\n",
    "from netsquid.examples.teleportation import (example_sim_setup)"
   ]
  },
  {
   "cell_type": "code",
   "execution_count": null,
   "metadata": {},
   "outputs": [],
   "source": [
    "print(f\"This example module is located at: {ns.examples.teleportation.__file__}\")\n",
    "\n",
    "network = networkSetup(node_distance=4e-3, depolarization_rate=0, dephasing_rate=0)\n",
    "node_a = network.get_node(\"Alice\")\n",
    "node_b = network.get_node(\"Bob\")\n",
    "protocol_alice, protocol_bob, dc = example_sim_setup(node_a, node_b)\n",
    "protocol_alice.start()\n",
    "protocol_bob.start()\n",
    "q_conn = network.get_connection(node_a, node_b, label=\"quantum\")\n",
    "cycle_runtime = (q_conn.subcomponents[\"qsource\"].subcomponents[\"internal_clock\"]\n",
    "                 .models[\"timing_model\"].delay)\n",
    "ns.sim_run(cycle_runtime * 100)\n",
    "print(f\"Mean fidelity of teleported state: {dc.dataframe['fidelity'].mean():.3f}\")"
   ]
  }
 ],
 "metadata": {
  "kernelspec": {
   "display_name": ".venv",
   "language": "python",
   "name": "python3"
  },
  "language_info": {
   "codemirror_mode": {
    "name": "ipython",
    "version": 3
   },
   "file_extension": ".py",
   "mimetype": "text/x-python",
   "name": "python",
   "nbconvert_exporter": "python",
   "pygments_lexer": "ipython3",
   "version": "3.10.12"
  }
 },
 "nbformat": 4,
 "nbformat_minor": 2
}
